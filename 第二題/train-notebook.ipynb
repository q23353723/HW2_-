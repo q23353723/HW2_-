{
 "cells": [
  {
   "cell_type": "code",
   "execution_count": 1,
   "metadata": {
    "executionInfo": {
     "elapsed": 1244,
     "status": "ok",
     "timestamp": 1620145450200,
     "user": {
      "displayName": "魏道弘",
      "photoUrl": "",
      "userId": "06050148315196721445"
     },
     "user_tz": -480
    },
    "id": "o_1f4WnJt8oG"
   },
   "outputs": [],
   "source": [
    "import os\n",
    "import tensorflow as tf"
   ]
  },
  {
   "cell_type": "code",
   "execution_count": 2,
   "metadata": {
    "executionInfo": {
     "elapsed": 24479,
     "status": "ok",
     "timestamp": 1620145505457,
     "user": {
      "displayName": "魏道弘",
      "photoUrl": "",
      "userId": "06050148315196721445"
     },
     "user_tz": -480
    },
    "id": "3WU130z_t8oM"
   },
   "outputs": [],
   "source": [
    "# 定義train與test資料集路徑\n",
    "train_path = \"./train\"\n",
    "test_path = \"./test\""
   ]
  },
  {
   "cell_type": "code",
   "execution_count": 3,
   "metadata": {
    "executionInfo": {
     "elapsed": 26144,
     "status": "ok",
     "timestamp": 1620145507149,
     "user": {
      "displayName": "魏道弘",
      "photoUrl": "",
      "userId": "06050148315196721445"
     },
     "user_tz": -480
    },
    "id": "oaCvD97Tt8oM"
   },
   "outputs": [],
   "source": [
    "# 定義keras內建之ImageDataGenerator\n",
    "from tensorflow.keras.preprocessing.image import ImageDataGenerator\n",
    "\n",
    "train_generator = ImageDataGenerator(\n",
    "    rescale = 1. / 255,\n",
    "    rotation_range = 20,\n",
    "    width_shift_range=0.2,\n",
    "    height_shift_range=0.2,\n",
    "    horizontal_flip=True,\n",
    "    vertical_flip=True,\n",
    "    fill_mode = 'nearest',\n",
    "    validation_split=0.2\n",
    ")\n",
    "test_generator = ImageDataGenerator(rescale=1./255)"
   ]
  },
  {
   "cell_type": "code",
   "execution_count": 4,
   "metadata": {
    "colab": {
     "base_uri": "https://localhost:8080/"
    },
    "executionInfo": {
     "elapsed": 25055,
     "status": "ok",
     "timestamp": 1620145508115,
     "user": {
      "displayName": "魏道弘",
      "photoUrl": "",
      "userId": "06050148315196721445"
     },
     "user_tz": -480
    },
    "id": "nmBwAXQUt8oN",
    "outputId": "c329a461-1686-40bf-a98d-9f24f255767d"
   },
   "outputs": [
    {
     "name": "stdout",
     "output_type": "stream",
     "text": [
      "Found 40000 images belonging to 10 classes.\n",
      "Found 10000 images belonging to 10 classes.\n",
      "Found 10000 images belonging to 10 classes.\n"
     ]
    }
   ],
   "source": [
    "# 取得train/val/test資料\n",
    "train_data = train_generator.flow_from_directory(\n",
    "    train_path, subset='training', target_size=(32, 32), batch_size=64, class_mode='categorical', shuffle=True\n",
    ")\n",
    "val_data = train_generator.flow_from_directory(\n",
    "    train_path, subset='validation', target_size=(32, 32), batch_size=64, class_mode='categorical', shuffle=True\n",
    ")\n",
    "test_data = test_generator.flow_from_directory(\n",
    "    test_path, target_size=(32, 32), batch_size=64, class_mode='categorical', shuffle=True\n",
    ")"
   ]
  },
  {
   "cell_type": "code",
   "execution_count": 5,
   "metadata": {
    "colab": {
     "base_uri": "https://localhost:8080/"
    },
    "executionInfo": {
     "elapsed": 2117,
     "status": "ok",
     "timestamp": 1620115511250,
     "user": {
      "displayName": "魏道弘",
      "photoUrl": "",
      "userId": "06050148315196721445"
     },
     "user_tz": -480
    },
    "id": "tNDbPekLt8oO",
    "outputId": "26ff637a-b4ac-4dab-d103-146da7330ce9"
   },
   "outputs": [
    {
     "name": "stdout",
     "output_type": "stream",
     "text": [
      "[name: \"/device:CPU:0\"\n",
      "device_type: \"CPU\"\n",
      "memory_limit: 268435456\n",
      "locality {\n",
      "}\n",
      "incarnation: 5425047901553398850\n",
      "]\n",
      "Model: \"sequential\"\n",
      "_________________________________________________________________\n",
      "Layer (type)                 Output Shape              Param #   \n",
      "=================================================================\n",
      "conv2d (Conv2D)              (None, 30, 30, 32)        896       \n",
      "_________________________________________________________________\n",
      "max_pooling2d (MaxPooling2D) (None, 15, 15, 32)        0         \n",
      "_________________________________________________________________\n",
      "conv2d_1 (Conv2D)            (None, 13, 13, 64)        18496     \n",
      "_________________________________________________________________\n",
      "max_pooling2d_1 (MaxPooling2 (None, 6, 6, 64)          0         \n",
      "_________________________________________________________________\n",
      "conv2d_2 (Conv2D)            (None, 4, 4, 128)         73856     \n",
      "_________________________________________________________________\n",
      "flatten (Flatten)            (None, 2048)              0         \n",
      "_________________________________________________________________\n",
      "dense (Dense)                (None, 64)                131136    \n",
      "_________________________________________________________________\n",
      "dense_1 (Dense)              (None, 10)                650       \n",
      "=================================================================\n",
      "Total params: 225,034\n",
      "Trainable params: 225,034\n",
      "Non-trainable params: 0\n",
      "_________________________________________________________________\n"
     ]
    }
   ],
   "source": [
    "# 建立CNN模型\n",
    "from tensorflow.keras import datasets, layers, models\n",
    "from tensorflow.python.client import device_lib\n",
    "\n",
    "print(device_lib.list_local_devices())\n",
    "\n",
    "model = models.Sequential()\n",
    "model.add(layers.Conv2D(32, (3, 3), activation='relu', input_shape=(32, 32, 3)))\n",
    "model.add(layers.MaxPooling2D((2,2)))\n",
    "model.add(layers.Conv2D(64, (3, 3), activation='relu'))\n",
    "model.add(layers.MaxPooling2D((2,2)))\n",
    "model.add(layers.Conv2D(128, (3, 3), activation='relu'))\n",
    "\n",
    "model.add(layers.Flatten())\n",
    "model.add(layers.Dense(64, activation='relu'))\n",
    "model.add(layers.Dense(10, activation='softmax'))\n",
    "\n",
    "model.summary()"
   ]
  },
  {
   "cell_type": "code",
   "execution_count": 6,
   "metadata": {
    "executionInfo": {
     "elapsed": 2110,
     "status": "ok",
     "timestamp": 1620115511250,
     "user": {
      "displayName": "魏道弘",
      "photoUrl": "",
      "userId": "06050148315196721445"
     },
     "user_tz": -480
    },
    "id": "jj_OD9Dgt8oO"
   },
   "outputs": [],
   "source": [
    "# 定義f1算法\n",
    "from tensorflow.keras import backend as K\n",
    "\n",
    "def recall_m(y_true, y_pred):\n",
    "    true_positives = K.sum(K.round(K.clip(y_true * y_pred, 0, 1)))\n",
    "    possible_positives = K.sum(K.round(K.clip(y_true, 0, 1)))\n",
    "    recall = true_positives / (possible_positives + K.epsilon())\n",
    "    return recall\n",
    "\n",
    "def precision_m(y_true, y_pred):\n",
    "    true_positives = K.sum(K.round(K.clip(y_true * y_pred, 0, 1)))\n",
    "    predicted_positives = K.sum(K.round(K.clip(y_pred, 0, 1)))\n",
    "    precision = true_positives / (predicted_positives + K.epsilon())\n",
    "    return precision\n",
    "\n",
    "def f1_m(y_true, y_pred):\n",
    "    precision = precision_m(y_true, y_pred)\n",
    "    recall = recall_m(y_true, y_pred)\n",
    "    return 2*((precision*recall)/(precision+recall+K.epsilon()))"
   ]
  },
  {
   "cell_type": "code",
   "execution_count": null,
   "metadata": {
    "colab": {
     "base_uri": "https://localhost:8080/"
    },
    "executionInfo": {
     "elapsed": 9852087,
     "status": "ok",
     "timestamp": 1620125361232,
     "user": {
      "displayName": "魏道弘",
      "photoUrl": "",
      "userId": "06050148315196721445"
     },
     "user_tz": -480
    },
    "id": "7OfzLWTrt8oP",
    "outputId": "04bf484a-bf44-4ccf-c177-b5193218869d",
    "scrolled": true,
    "tags": []
   },
   "outputs": [],
   "source": [
    "# 初始化優化器並設定績效計算與callback等方法\n",
    "early_stop = tf.keras.callbacks.EarlyStopping(\n",
    "    monitor=\"val_loss\",\n",
    "    patience=30,\n",
    "    restore_best_weights=True,\n",
    "    verbose=0,\n",
    ")\n",
    "\n",
    "model.compile(\n",
    "    optimizer='adam',\n",
    "    loss=tf.keras.losses.CategoricalCrossentropy(from_logits=False),\n",
    "    metrics=['accuracy', f1_m, precision_m, recall_m],\n",
    ")\n",
    "\n",
    "history = model.fit(train_data, epochs=200, validation_data=val_data, callbacks=[early_stop], verbose=1)"
   ]
  },
  {
   "cell_type": "code",
   "execution_count": null,
   "metadata": {
    "colab": {
     "base_uri": "https://localhost:8080/"
    },
    "executionInfo": {
     "elapsed": 9856403,
     "status": "ok",
     "timestamp": 1620125365552,
     "user": {
      "displayName": "魏道弘",
      "photoUrl": "",
      "userId": "06050148315196721445"
     },
     "user_tz": -480
    },
    "id": "hi77_r1Mt8oP",
    "outputId": "5c1e70c4-67df-4d7c-9b41-4863682a4b96"
   },
   "outputs": [],
   "source": [
    "# 測試模型績效\n",
    "loss, accuracy, f1_score, precision, recall = model.evaluate(test_data)"
   ]
  },
  {
   "cell_type": "code",
   "execution_count": null,
   "metadata": {
    "colab": {
     "base_uri": "https://localhost:8080/"
    },
    "executionInfo": {
     "elapsed": 9857553,
     "status": "ok",
     "timestamp": 1620125366707,
     "user": {
      "displayName": "魏道弘",
      "photoUrl": "",
      "userId": "06050148315196721445"
     },
     "user_tz": -480
    },
    "id": "ENLXIdQiXJiA",
    "outputId": "b3addffa-d9a5-42e5-d973-1ed0d569ea2e"
   },
   "outputs": [],
   "source": [
    "# model.save('/content/drive/MyDrive/Colab Notebooks/CIFAR10/model_02')"
   ]
  },
  {
   "cell_type": "code",
   "execution_count": null,
   "metadata": {
    "executionInfo": {
     "elapsed": 887,
     "status": "ok",
     "timestamp": 1620138077598,
     "user": {
      "displayName": "魏道弘",
      "photoUrl": "",
      "userId": "06050148315196721445"
     },
     "user_tz": -480
    },
    "id": "TbwtNcYuEhQR"
   },
   "outputs": [],
   "source": [
    " ##### 下一個模型測試，測試將relu換為tanh是否提升績效 #####"
   ]
  },
  {
   "cell_type": "code",
   "execution_count": null,
   "metadata": {
    "colab": {
     "base_uri": "https://localhost:8080/"
    },
    "executionInfo": {
     "elapsed": 934,
     "status": "ok",
     "timestamp": 1620126683825,
     "user": {
      "displayName": "魏道弘",
      "photoUrl": "",
      "userId": "06050148315196721445"
     },
     "user_tz": -480
    },
    "id": "bcoQwOe3EhlK",
    "outputId": "a5a69139-b29f-4de3-f10d-c548fb0ffeb5"
   },
   "outputs": [],
   "source": [
    "# 建立CNN模型\n",
    "from tensorflow.keras import datasets, layers, models\n",
    "from tensorflow.python.client import device_lib\n",
    "\n",
    "print(device_lib.list_local_devices())\n",
    "\n",
    "model = models.Sequential()\n",
    "model.add(layers.Conv2D(32, (3, 3), activation='tanh', input_shape=(32, 32, 3)))\n",
    "model.add(layers.MaxPooling2D((2,2)))\n",
    "model.add(layers.Conv2D(64, (3, 3), activation='tanh'))\n",
    "model.add(layers.MaxPooling2D((2,2)))\n",
    "model.add(layers.Conv2D(128, (3, 3), activation='tanh'))\n",
    "\n",
    "model.add(layers.Flatten())\n",
    "model.add(layers.Dense(64, activation='tanh'))\n",
    "model.add(layers.Dense(10, activation='softmax'))\n",
    "\n",
    "model.summary()"
   ]
  },
  {
   "cell_type": "code",
   "execution_count": null,
   "metadata": {
    "executionInfo": {
     "elapsed": 932,
     "status": "ok",
     "timestamp": 1620126683825,
     "user": {
      "displayName": "魏道弘",
      "photoUrl": "",
      "userId": "06050148315196721445"
     },
     "user_tz": -480
    },
    "id": "MPRuNORLEhlL"
   },
   "outputs": [],
   "source": [
    "# 定義f1算法\n",
    "from tensorflow.keras import backend as K\n",
    "\n",
    "def recall_m(y_true, y_pred):\n",
    "    true_positives = K.sum(K.round(K.clip(y_true * y_pred, 0, 1)))\n",
    "    possible_positives = K.sum(K.round(K.clip(y_true, 0, 1)))\n",
    "    recall = true_positives / (possible_positives + K.epsilon())\n",
    "    return recall\n",
    "\n",
    "def precision_m(y_true, y_pred):\n",
    "    true_positives = K.sum(K.round(K.clip(y_true * y_pred, 0, 1)))\n",
    "    predicted_positives = K.sum(K.round(K.clip(y_pred, 0, 1)))\n",
    "    precision = true_positives / (predicted_positives + K.epsilon())\n",
    "    return precision\n",
    "\n",
    "def f1_m(y_true, y_pred):\n",
    "    precision = precision_m(y_true, y_pred)\n",
    "    recall = recall_m(y_true, y_pred)\n",
    "    return 2*((precision*recall)/(precision+recall+K.epsilon()))"
   ]
  },
  {
   "cell_type": "code",
   "execution_count": null,
   "metadata": {
    "colab": {
     "base_uri": "https://localhost:8080/"
    },
    "executionInfo": {
     "elapsed": 10770039,
     "status": "ok",
     "timestamp": 1620137452939,
     "user": {
      "displayName": "魏道弘",
      "photoUrl": "",
      "userId": "06050148315196721445"
     },
     "user_tz": -480
    },
    "id": "8KQyeCrMEhlM",
    "outputId": "05076341-9d2d-4c6d-9eb0-eea7823b9870",
    "scrolled": true,
    "tags": []
   },
   "outputs": [],
   "source": [
    "# 初始化優化器並設定績效計算與callback等方法\n",
    "early_stop = tf.keras.callbacks.EarlyStopping(\n",
    "    monitor=\"val_loss\",\n",
    "    patience=30,\n",
    "    restore_best_weights=True,\n",
    "    verbose=0,\n",
    ")\n",
    "\n",
    "model.compile(\n",
    "    optimizer='adam',\n",
    "    loss=tf.keras.losses.CategoricalCrossentropy(from_logits=False),\n",
    "    metrics=['accuracy', f1_m, precision_m, recall_m],\n",
    ")\n",
    "\n",
    "history = model.fit(train_data, epochs=200, validation_data=val_data, callbacks=[early_stop], verbose=1)"
   ]
  },
  {
   "cell_type": "code",
   "execution_count": null,
   "metadata": {
    "colab": {
     "base_uri": "https://localhost:8080/"
    },
    "executionInfo": {
     "elapsed": 10773748,
     "status": "ok",
     "timestamp": 1620137456654,
     "user": {
      "displayName": "魏道弘",
      "photoUrl": "",
      "userId": "06050148315196721445"
     },
     "user_tz": -480
    },
    "id": "5Xp0bHf6EhlM",
    "outputId": "39e77567-a670-4f21-dc36-13e61be44338"
   },
   "outputs": [],
   "source": [
    "# 測試模型績效\n",
    "loss, accuracy, f1_score, precision, recall = model.evaluate(test_data)"
   ]
  },
  {
   "cell_type": "code",
   "execution_count": null,
   "metadata": {
    "colab": {
     "base_uri": "https://localhost:8080/"
    },
    "executionInfo": {
     "elapsed": 10774799,
     "status": "ok",
     "timestamp": 1620137457710,
     "user": {
      "displayName": "魏道弘",
      "photoUrl": "",
      "userId": "06050148315196721445"
     },
     "user_tz": -480
    },
    "id": "jfSI1zopEhlN",
    "outputId": "6a62a71c-3cc5-49e3-d574-8fb460e60eb4"
   },
   "outputs": [],
   "source": [
    "# model.save('/content/drive/MyDrive/Colab Notebooks/CIFAR10/model_01')"
   ]
  },
  {
   "cell_type": "code",
   "execution_count": null,
   "metadata": {
    "id": "XllNM6qUwWtG"
   },
   "outputs": [],
   "source": [
    " ##### 下一個模型測試，測試將relu換為selu是否提升績效 #####"
   ]
  },
  {
   "cell_type": "code",
   "execution_count": null,
   "metadata": {
    "colab": {
     "base_uri": "https://localhost:8080/"
    },
    "executionInfo": {
     "elapsed": 2039,
     "status": "ok",
     "timestamp": 1620145551821,
     "user": {
      "displayName": "魏道弘",
      "photoUrl": "",
      "userId": "06050148315196721445"
     },
     "user_tz": -480
    },
    "id": "7MS6oe50wXNH",
    "outputId": "df7e2a5e-46a3-47de-94fb-8c4c6e6e8f7b"
   },
   "outputs": [],
   "source": [
    "# 建立CNN模型\n",
    "from tensorflow.keras import datasets, layers, models\n",
    "from tensorflow.python.client import device_lib\n",
    "\n",
    "print(device_lib.list_local_devices())\n",
    "\n",
    "model = models.Sequential()\n",
    "model.add(layers.Conv2D(32, (3, 3), activation='selu', input_shape=(32, 32, 3)))\n",
    "model.add(layers.MaxPooling2D((2,2)))\n",
    "model.add(layers.Conv2D(64, (3, 3), activation='selu'))\n",
    "model.add(layers.MaxPooling2D((2,2)))\n",
    "model.add(layers.Conv2D(128, (3, 3), activation='selu'))\n",
    "\n",
    "model.add(layers.Flatten())\n",
    "model.add(layers.Dense(64, activation='selu'))\n",
    "model.add(layers.Dense(10, activation='softmax'))\n",
    "\n",
    "model.summary()"
   ]
  },
  {
   "cell_type": "code",
   "execution_count": null,
   "metadata": {
    "executionInfo": {
     "elapsed": 2001,
     "status": "ok",
     "timestamp": 1620145551821,
     "user": {
      "displayName": "魏道弘",
      "photoUrl": "",
      "userId": "06050148315196721445"
     },
     "user_tz": -480
    },
    "id": "ELzp3nHRwXNJ"
   },
   "outputs": [],
   "source": [
    "# 定義f1算法\n",
    "from tensorflow.keras import backend as K\n",
    "\n",
    "def recall_m(y_true, y_pred):\n",
    "    true_positives = K.sum(K.round(K.clip(y_true * y_pred, 0, 1)))\n",
    "    possible_positives = K.sum(K.round(K.clip(y_true, 0, 1)))\n",
    "    recall = true_positives / (possible_positives + K.epsilon())\n",
    "    return recall\n",
    "\n",
    "def precision_m(y_true, y_pred):\n",
    "    true_positives = K.sum(K.round(K.clip(y_true * y_pred, 0, 1)))\n",
    "    predicted_positives = K.sum(K.round(K.clip(y_pred, 0, 1)))\n",
    "    precision = true_positives / (predicted_positives + K.epsilon())\n",
    "    return precision\n",
    "\n",
    "def f1_m(y_true, y_pred):\n",
    "    precision = precision_m(y_true, y_pred)\n",
    "    recall = recall_m(y_true, y_pred)\n",
    "    return 2*((precision*recall)/(precision+recall+K.epsilon()))"
   ]
  },
  {
   "cell_type": "code",
   "execution_count": null,
   "metadata": {
    "colab": {
     "base_uri": "https://localhost:8080/"
    },
    "executionInfo": {
     "elapsed": 4032642,
     "status": "ok",
     "timestamp": 1620159800870,
     "user": {
      "displayName": "魏道弘",
      "photoUrl": "",
      "userId": "06050148315196721445"
     },
     "user_tz": -480
    },
    "id": "yVQWpvvswXNJ",
    "outputId": "31c4d446-7d95-4132-c5cf-74793d088cbd",
    "scrolled": true,
    "tags": []
   },
   "outputs": [],
   "source": [
    "# 初始化優化器並設定績效計算與callback等方法\n",
    "early_stop = tf.keras.callbacks.EarlyStopping(\n",
    "    monitor=\"val_loss\",\n",
    "    patience=30,\n",
    "    restore_best_weights=True,\n",
    "    verbose=0,\n",
    ")\n",
    "\n",
    "model.compile(\n",
    "    optimizer='adam',\n",
    "    loss=tf.keras.losses.CategoricalCrossentropy(from_logits=False),\n",
    "    metrics=['accuracy', f1_m, precision_m, recall_m],\n",
    ")\n",
    "\n",
    "history = model.fit(train_data, epochs=200, validation_data=val_data, callbacks=[early_stop], verbose=1)"
   ]
  },
  {
   "cell_type": "code",
   "execution_count": null,
   "metadata": {
    "colab": {
     "base_uri": "https://localhost:8080/"
    },
    "executionInfo": {
     "elapsed": 4981,
     "status": "ok",
     "timestamp": 1620159805810,
     "user": {
      "displayName": "魏道弘",
      "photoUrl": "",
      "userId": "06050148315196721445"
     },
     "user_tz": -480
    },
    "id": "QbIUHSGqwXNK",
    "outputId": "de279bb8-c05c-4baa-d52f-876d42565b59"
   },
   "outputs": [],
   "source": [
    "# 測試模型績效\n",
    "loss, accuracy, f1_score, precision, recall = model.evaluate(test_data)"
   ]
  },
  {
   "cell_type": "code",
   "execution_count": null,
   "metadata": {
    "colab": {
     "base_uri": "https://localhost:8080/"
    },
    "executionInfo": {
     "elapsed": 1168,
     "status": "ok",
     "timestamp": 1620159806970,
     "user": {
      "displayName": "魏道弘",
      "photoUrl": "",
      "userId": "06050148315196721445"
     },
     "user_tz": -480
    },
    "id": "C6L8NKiKwXNL",
    "outputId": "5b4db94e-a956-442c-d376-557c8d0d477d"
   },
   "outputs": [],
   "source": [
    "# model.save('/content/drive/MyDrive/Colab Notebooks/CIFAR10/model_03')"
   ]
  }
 ],
 "metadata": {
  "colab": {
   "collapsed_sections": [],
   "name": "train.ipynb",
   "provenance": []
  },
  "kernelspec": {
   "display_name": "Python 3",
   "language": "python",
   "name": "python3"
  },
  "language_info": {
   "codemirror_mode": {
    "name": "ipython",
    "version": 3
   },
   "file_extension": ".py",
   "mimetype": "text/x-python",
   "name": "python",
   "nbconvert_exporter": "python",
   "pygments_lexer": "ipython3",
   "version": "3.8.8"
  }
 },
 "nbformat": 4,
 "nbformat_minor": 4
}
